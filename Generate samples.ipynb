{
 "cells": [
  {
   "cell_type": "code",
   "execution_count": 1,
   "id": "b34e6b54",
   "metadata": {},
   "outputs": [],
   "source": [
    "import pandas as pd\n"
   ]
  },
  {
   "cell_type": "code",
   "execution_count": 7,
   "id": "ffa5f28e",
   "metadata": {},
   "outputs": [],
   "source": [
    "import random"
   ]
  },
  {
   "cell_type": "code",
   "execution_count": 20,
   "id": "7b54c867",
   "metadata": {},
   "outputs": [],
   "source": [
    "n = 100  # every 100th line = 1% of the lines\n",
    "c = pd.read_csv('/home/julie/Bureau/Data visualization/full_2020.csv', header=0, skiprows=lambda i: i % n != 0, low_memory=False)"
   ]
  },
  {
   "cell_type": "code",
   "execution_count": 21,
   "id": "17a687b8",
   "metadata": {},
   "outputs": [],
   "source": [
    "c.to_csv('2020_sample.csv')"
   ]
  },
  {
   "cell_type": "code",
   "execution_count": null,
   "id": "62a33497",
   "metadata": {},
   "outputs": [],
   "source": []
  }
 ],
 "metadata": {
  "kernelspec": {
   "display_name": "Python 3 (ipykernel)",
   "language": "python",
   "name": "python3"
  },
  "language_info": {
   "codemirror_mode": {
    "name": "ipython",
    "version": 3
   },
   "file_extension": ".py",
   "mimetype": "text/x-python",
   "name": "python",
   "nbconvert_exporter": "python",
   "pygments_lexer": "ipython3",
   "version": "3.7.12"
  }
 },
 "nbformat": 4,
 "nbformat_minor": 5
}
